{
 "cells": [
  {
   "cell_type": "code",
   "execution_count": null,
   "metadata": {},
   "outputs": [],
   "source": [
    "import random\n",
    "word = []\n",
    "meaning = []\n",
    "n = len(word)\n",
    "bol = True\n",
    "print(\"Welcome to GRE prep.\\n\")\n",
    "\n",
    "while bol:\n",
    "    def addword():\n",
    "        w = input(\"Enter the word : \")\n",
    "        word.append(w)\n",
    "        m = input(\"Enter the meaning : \")\n",
    "        meaning.append(m)\n",
    "        n = len(word)\n",
    "    \n",
    "    def learn(limit,l=True):\n",
    "        while l :\n",
    "            if limit!=0:\n",
    "                i = random.randint(0,limit-1)\n",
    "                print(\"\\n\")\n",
    "                print(word[i])\n",
    "                print(meaning[i])\n",
    "                print(\"\\n\")\n",
    "                choice1 = int(input(\"Click '1' to continue.\\nClick '2' to quit from Learning.\"))\n",
    "                if choice1 == 1:\n",
    "                    continue\n",
    "                else :\n",
    "                    l = False\n",
    "            else:\n",
    "                print(\"There are no words in the Dictionary.\")\n",
    "                l = False\n",
    "        \n",
    "  \n",
    "    choice = int(input(\"Click '1' to add a word.\\nClick '2' to learn.\\nClick '3' to quit.\\n\"))\n",
    "    n = len(word)  \n",
    "\n",
    "    if choice == 1:\n",
    "        addword()\n",
    "    \n",
    "    elif choice == 2:\n",
    "        learn(n)\n",
    "    else:\n",
    "        bol = False\n",
    "    \n"
   ]
  },
  {
   "cell_type": "code",
   "execution_count": null,
   "metadata": {},
   "outputs": [],
   "source": []
  }
 ],
 "metadata": {
  "kernelspec": {
   "display_name": "Python 3",
   "language": "python",
   "name": "python3"
  },
  "language_info": {
   "codemirror_mode": {
    "name": "ipython",
    "version": 3
   },
   "file_extension": ".py",
   "mimetype": "text/x-python",
   "name": "python",
   "nbconvert_exporter": "python",
   "pygments_lexer": "ipython3",
   "version": "3.7.6"
  }
 },
 "nbformat": 4,
 "nbformat_minor": 4
}
